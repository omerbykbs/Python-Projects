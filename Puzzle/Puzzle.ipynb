{
 "cells": [
  {
   "cell_type": "code",
   "execution_count": 1,
   "id": "d490ab23",
   "metadata": {},
   "outputs": [],
   "source": [
    "import shutil"
   ]
  },
  {
   "cell_type": "code",
   "execution_count": 2,
   "id": "f8b1867e",
   "metadata": {},
   "outputs": [],
   "source": [
    "shutil.unpack_archive('unzip_me_for_instructions.zip','instructions_for_puzzle','zip')"
   ]
  },
  {
   "cell_type": "code",
   "execution_count": 8,
   "id": "f9a348d4",
   "metadata": {},
   "outputs": [
    {
     "name": "stdout",
     "output_type": "stream",
     "text": [
      "Good work on unzipping the file!\n",
      "You should now see 5 folders, each with a lot of random .txt files.\n",
      "Within one of these text files is a telephone number formated ###-###-#### \n",
      "Use the Python os module and regular expressions to iterate through each file, open it, and search for a telephone number.\n",
      "Good luck!\n"
     ]
    }
   ],
   "source": [
    "with open('extracted_content/Instructions.txt') as f:\n",
    "    content = f.read()\n",
    "    print(content)"
   ]
  },
  {
   "cell_type": "code",
   "execution_count": 9,
   "id": "47085592",
   "metadata": {},
   "outputs": [],
   "source": [
    "import re"
   ]
  },
  {
   "cell_type": "code",
   "execution_count": 10,
   "id": "3ce15fdc",
   "metadata": {},
   "outputs": [],
   "source": [
    "pattern = r'\\d{3}-\\d{3}-\\d{4}'"
   ]
  },
  {
   "cell_type": "code",
   "execution_count": 14,
   "id": "c946f9ca",
   "metadata": {},
   "outputs": [],
   "source": [
    "def search(file,pattern= r'\\d{3}-\\d{3}-\\d{4}'):\n",
    "    f = open(file,'r')\n",
    "    text = f.read()\n",
    "    \n",
    "    if re.search(pattern,text):\n",
    "        return re.search(pattern,text)\n",
    "    else:\n",
    "        return ''"
   ]
  },
  {
   "cell_type": "code",
   "execution_count": 15,
   "id": "d26110bf",
   "metadata": {},
   "outputs": [],
   "source": [
    "import os"
   ]
  },
  {
   "cell_type": "code",
   "execution_count": 17,
   "id": "38a5ac98",
   "metadata": {},
   "outputs": [
    {
     "data": {
      "text/plain": [
       "'/Users/omerfaruk/Python Bootcamp/extracted_content'"
      ]
     },
     "execution_count": 17,
     "metadata": {},
     "output_type": "execute_result"
    }
   ],
   "source": [
    "os.getcwd()+'/extracted_content'"
   ]
  },
  {
   "cell_type": "code",
   "execution_count": 24,
   "id": "4e26f722",
   "metadata": {},
   "outputs": [],
   "source": [
    "results = []\n",
    "for folder,subfolder,files in os.walk(os.getcwd()+\"/extracted_content\"):\n",
    "    \n",
    "    for file in files:\n",
    "        if (file == '.DS_Store'):\n",
    "            continue\n",
    "        else:\n",
    "            path = folder+f\"/{file}\"\n",
    "            results.append(search(path))"
   ]
  },
  {
   "cell_type": "code",
   "execution_count": 28,
   "id": "8d71544e",
   "metadata": {},
   "outputs": [
    {
     "name": "stdout",
     "output_type": "stream",
     "text": [
      "Searched number is: 719-266-2837\n"
     ]
    }
   ],
   "source": [
    "decoded = ''\n",
    "for r in results:\n",
    "    if r != '':\n",
    "        decoded = r.group()\n",
    "        \n",
    "print(f\"Searched number is: {decoded}\")"
   ]
  },
  {
   "cell_type": "code",
   "execution_count": null,
   "id": "be708322",
   "metadata": {},
   "outputs": [],
   "source": []
  }
 ],
 "metadata": {
  "kernelspec": {
   "display_name": "Python 3 (ipykernel)",
   "language": "python",
   "name": "python3"
  },
  "language_info": {
   "codemirror_mode": {
    "name": "ipython",
    "version": 3
   },
   "file_extension": ".py",
   "mimetype": "text/x-python",
   "name": "python",
   "nbconvert_exporter": "python",
   "pygments_lexer": "ipython3",
   "version": "3.10.5"
  }
 },
 "nbformat": 4,
 "nbformat_minor": 5
}
